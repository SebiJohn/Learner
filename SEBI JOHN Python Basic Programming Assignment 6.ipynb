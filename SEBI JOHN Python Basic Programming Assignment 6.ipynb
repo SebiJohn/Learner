{
 "cells": [
  {
   "cell_type": "markdown",
   "id": "0ef05aa0",
   "metadata": {},
   "source": [
    "Python Programming Basic Assignment_6"
   ]
  },
  {
   "cell_type": "markdown",
   "id": "fac46995",
   "metadata": {},
   "source": [
    "Q.1. Write a Python Program to Display Fibonacci Sequence Using Recursion?"
   ]
  },
  {
   "cell_type": "code",
   "execution_count": 17,
   "id": "6d6a274d",
   "metadata": {},
   "outputs": [
    {
     "name": "stdout",
     "output_type": "stream",
     "text": [
      "Enter a positive whole number for Fibonacci Sequence up to those many digits: 15\n",
      "The Fibonacci Sequence up to 15 digits is: [0, 1, 1, 2, 3, 5, 8, 13, 21, 34, 55, 89, 144, 233, 377]\n"
     ]
    }
   ],
   "source": [
    "#Answer 1\n",
    "l = []   #List to store values to return the Fibonacci Sequence in the correct order\n",
    "a = 0\n",
    "b = 1\n",
    "i = 3    #This variable is used for progression of index\n",
    "def FIB(n1):\n",
    "    '''\n",
    "    Returns a Fibonacci sequence until those many digits are obtained that was entered by user\n",
    "    '''\n",
    "    global l, a, b, i   #Global for ease of reference and operation\n",
    "    if n1==0:        #If user enters 0 then function will automatically return [0]\n",
    "        l.append(0)\n",
    "    elif n1==1:      #If user enters 1 then function will automatically return [0,1]\n",
    "        l.append(0)\n",
    "        l.append(1)\n",
    "    elif i<=n1:     #If user enters a whole number greater than 1\n",
    "        i+=1        \n",
    "        if a == 0 and b == 1:   #For the very first entry when number entered by user is greater than 1\n",
    "            l.append(0)\n",
    "            l.append(1)\n",
    "        s = a + b\n",
    "        a=b\n",
    "        b=s\n",
    "        l.append(s)  \n",
    "        FIB(n1)  #Calling the function until the desired number of digits are populated in the list l\n",
    "    return l   #Returns the final list containing the Fibonacci Sequence\n",
    "N = int(input(\"Enter a positive whole number for Fibonacci Sequence up to those many digits: \"))\n",
    "print(f\"The Fibonacci Sequence up to {N} digits is: {FIB(N)}\")\n"
   ]
  },
  {
   "cell_type": "markdown",
   "id": "6388aebd",
   "metadata": {},
   "source": [
    "Q.2. Write a Python Program to Find Factorial of Number Using Recursion?"
   ]
  },
  {
   "cell_type": "code",
   "execution_count": 8,
   "id": "842e718d",
   "metadata": {},
   "outputs": [
    {
     "name": "stdout",
     "output_type": "stream",
     "text": [
      "Enter a positive whole number for factorial: 45\n",
      "Factorial of 45 is: 119622220865480194561963161495657715064383733760000000000\n"
     ]
    }
   ],
   "source": [
    "#Answer 2\n",
    "F = 1\n",
    "def factorial_n(n):\n",
    "    if n == 0 or n == 1:  #If argument passed is equal to 0 or 1\n",
    "        return 1\n",
    "    if n>1:\n",
    "        return n*factorial_n(n-1)  #Recursion with a number lesser in value by 1 compared to current value of n\n",
    "N = int(input(\"Enter a positive whole number for factorial: \"))   #Accepting value for factorial calculation\n",
    "print(f\"Factorial of {N} is: {factorial_n(N)}\")"
   ]
  },
  {
   "cell_type": "markdown",
   "id": "6aa7681d",
   "metadata": {},
   "source": [
    "Q.3. Write a Python Program to calculate your Body Mass Index?"
   ]
  },
  {
   "cell_type": "code",
   "execution_count": 7,
   "id": "b7b3f07f",
   "metadata": {},
   "outputs": [
    {
     "name": "stdout",
     "output_type": "stream",
     "text": [
      "Enter weight in kg: 77\n",
      "Enter height in meter: 1.66\n",
      "BMI is: 27.94309769197271\n"
     ]
    }
   ],
   "source": [
    "#Answer 3\n",
    "w = float(input(\"Enter weight in kg: \"))\n",
    "h = float(input(\"Enter height in meter: \"))\n",
    "bmi = float(w/(h*h))  #BMI calculation\n",
    "print(f\"BMI is: {bmi}\")"
   ]
  },
  {
   "cell_type": "markdown",
   "id": "31272494",
   "metadata": {},
   "source": [
    "Q.4. Write a Python Program to calculate the natural logarithm of any number?"
   ]
  },
  {
   "cell_type": "code",
   "execution_count": 18,
   "id": "a0a5b5d6",
   "metadata": {},
   "outputs": [
    {
     "name": "stdout",
     "output_type": "stream",
     "text": [
      "Enter a positive number to obtain it's natural logarithm: 324.52\n",
      "The natural logarithm of 324.52 is 5.782347167526864\n"
     ]
    }
   ],
   "source": [
    "#Answer 4\n",
    "import math\n",
    "n = float(input(\"Enter a positive number to obtain it's natural logarithm: \"))\n",
    "print(f\"The natural logarithm of {n} is {math.log(n)}\")"
   ]
  },
  {
   "cell_type": "markdown",
   "id": "fb038d51",
   "metadata": {},
   "source": [
    "Q.5. Write a Python Program for cube sum of first n natural numbers?"
   ]
  },
  {
   "cell_type": "code",
   "execution_count": 19,
   "id": "688384e7",
   "metadata": {},
   "outputs": [
    {
     "name": "stdout",
     "output_type": "stream",
     "text": [
      "Enter a positive whole number: 356\n",
      "Sum of cubes of first n natural numbers is 4038094116\n"
     ]
    }
   ],
   "source": [
    "#Answer 5\n",
    "n = int(input(\"Enter a positive whole number: \"))\n",
    "s=1\n",
    "def cube(n1):\n",
    "    global s\n",
    "    if n1 == 0 or n1==1:  #If user enters 0 or 1\n",
    "        return 1\n",
    "    else:\n",
    "        s = s + n1**3    #Cube calculation progression\n",
    "        cube(n1-1)\n",
    "    return s\n",
    "print(f\"Sum of cubes of first n natural numbers is {cube(n)}\")"
   ]
  },
  {
   "cell_type": "code",
   "execution_count": null,
   "id": "053e94ed",
   "metadata": {},
   "outputs": [],
   "source": []
  }
 ],
 "metadata": {
  "kernelspec": {
   "display_name": "Python 3 (ipykernel)",
   "language": "python",
   "name": "python3"
  },
  "language_info": {
   "codemirror_mode": {
    "name": "ipython",
    "version": 3
   },
   "file_extension": ".py",
   "mimetype": "text/x-python",
   "name": "python",
   "nbconvert_exporter": "python",
   "pygments_lexer": "ipython3",
   "version": "3.9.7"
  }
 },
 "nbformat": 4,
 "nbformat_minor": 5
}
