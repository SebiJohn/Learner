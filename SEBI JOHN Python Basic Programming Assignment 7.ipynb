{
 "cells": [
  {
   "cell_type": "markdown",
   "id": "e53f4b64",
   "metadata": {},
   "source": [
    "Python Programming Basic Assignment_7"
   ]
  },
  {
   "cell_type": "markdown",
   "id": "4aff1c4d",
   "metadata": {},
   "source": [
    "Q. 1. Write a Python Program to find sum of array?"
   ]
  },
  {
   "cell_type": "code",
   "execution_count": 87,
   "id": "32681731",
   "metadata": {
    "scrolled": false
   },
   "outputs": [
    {
     "name": "stdout",
     "output_type": "stream",
     "text": [
      "Enter an integer: 1.2\n",
      "If you want to stop & get the sum of integers entered so far, press 0\n",
      "Else press anything else 1\n",
      "Enter an integer: 2\n",
      "If you want to stop & get the sum of integers entered so far, press 0\n",
      "Else press anything else 4\n",
      "Enter an integer: 3\n",
      "If you want to stop & get the sum of integers entered so far, press 0\n",
      "Else press anything else 3\n",
      "Enter an integer: g\n",
      "You did not enter an integer\n",
      "If you want to stop & get the sum of integers entered so far, press 0\n",
      "Else press anything else 2\n",
      "Enter an integer: 1.2\n",
      "If you want to stop & get the sum of integers entered so far, press 0\n",
      "Else press anything else 0\n",
      "The collection of elements is:  [1.2, 2.0, 3.0, 1.2]\n",
      "Sum of the elements of array:  7.4\n"
     ]
    }
   ],
   "source": [
    "#Answer 1\n",
    "l1 = [] #for storage purpose\n",
    "s1=0 #for sum\n",
    "i1=0 #for continuation of data input along with loop progression\n",
    "a1 = 0 #To get input for further checks\n",
    "def check_n1(n1): #To check whether input can be converted to float (i.e., string contains solely float/int)\n",
    "    try:\n",
    "        float(n1)\n",
    "        return True\n",
    "    except ValueError:\n",
    "        return False\n",
    "while i1!='0':\n",
    "    a1 = input(\"Enter an integer: \")\n",
    "    if check_n1(a1) is True: #Checks whether string solely contains float/int\n",
    "        l1.append(float(a1))\n",
    "        i1 = input(\"If you want to stop & get the sum of integers entered so far, press 0\\nElse press anything else \")\n",
    "    else:\n",
    "        print(\"You did not enter an integer\")\n",
    "        i1 = input(\"If you want to stop & get the sum of integers entered so far, press 0\\nElse press anything else \")\n",
    "for i1 in range(len(l1)):\n",
    "    s1 = s1 + l1[i1]\n",
    "print(\"The collection of elements is: \",l1)\n",
    "print(\"Sum of the elements of array: \",s1)"
   ]
  },
  {
   "cell_type": "markdown",
   "id": "6ec58ac8",
   "metadata": {},
   "source": [
    "Q. 2. Write a Python Program to find largest element in an array?"
   ]
  },
  {
   "cell_type": "code",
   "execution_count": 89,
   "id": "a09b4552",
   "metadata": {},
   "outputs": [
    {
     "name": "stdout",
     "output_type": "stream",
     "text": [
      "Enter an integer: -345.3\n",
      "If you want to stop & get the sum of integers entered so far, press 0\n",
      "Else press anything else 6\n",
      "Enter an integer: 2242526\n",
      "If you want to stop & get the sum of integers entered so far, press 0\n",
      "Else press anything else .\n",
      "Enter an integer: gg\n",
      "You did not enter an integer\n",
      "If you want to stop & get the sum of integers entered so far, press 0\n",
      "Else press anything else 3\n",
      "Enter an integer: 2352543.234\n",
      "If you want to stop & get the sum of integers entered so far, press 0\n",
      "Else press anything else 5\n",
      "Enter an integer: -2352535346.23423\n",
      "If you want to stop & get the sum of integers entered so far, press 0\n",
      "Else press anything else 0\n",
      "Largest element is: 2352543.234\n"
     ]
    }
   ],
   "source": [
    "#Answer 2\n",
    "l2 = [] #for storage purpose\n",
    "i2=0 #for continuation of data input along with loop progression\n",
    "N2 = float('-inf') #To compare entered values with negative infinity\n",
    "def check_n2(n2): #To check whether input can be converted to float (i.e., string contains solely float/int)\n",
    "    try:\n",
    "        float(n2)\n",
    "        return True\n",
    "    except ValueError:\n",
    "        return False\n",
    "while i2!='0':\n",
    "    a2 = input(\"Enter an integer: \")\n",
    "    if check_n2(a2) is True: #Checks whether string solely contains float/int\n",
    "        l2.append(float(a2))\n",
    "        i2 = input(\"If you want to stop & get the sum of integers entered so far, press 0\\nElse press anything else \")\n",
    "    else:\n",
    "        print(\"You did not enter an integer\")\n",
    "        i2 = input(\"If you want to stop & get the sum of integers entered so far, press 0\\nElse press anything else \")\n",
    "i2=0\n",
    "for i2 in range(len(l2)):\n",
    "    if l2[i2]>N2:\n",
    "        N2=l2[i2]\n",
    "print(f\"Largest element is: {N2}\")"
   ]
  },
  {
   "cell_type": "markdown",
   "id": "f0636980",
   "metadata": {},
   "source": [
    "Q. 3. Write a Python Program for array rotation?"
   ]
  },
  {
   "cell_type": "code",
   "execution_count": 95,
   "id": "86b13e40",
   "metadata": {},
   "outputs": [
    {
     "name": "stdout",
     "output_type": "stream",
     "text": [
      "Enter an element to store in a collection: abc\n",
      "Enter 0 if you want to stop entering data into the collection. Else press any other key: l\n",
      "Enter an element to store in a collection: def\n",
      "Enter 0 if you want to stop entering data into the collection. Else press any other key: g\n",
      "Enter an element to store in a collection: ghi\n",
      "Enter 0 if you want to stop entering data into the collection. Else press any other key: ew\n",
      "Enter an element to store in a collection: 32\n",
      "Enter 0 if you want to stop entering data into the collection. Else press any other key: 5\n",
      "Enter an element to store in a collection: ...\n",
      "Enter 0 if you want to stop entering data into the collection. Else press any other key: 0\n",
      "Enter the number of initial elements that you want to move to rear end of collection: 2\n",
      "The collection of elements that will be moved to rear end is ['abc', 'def']\n",
      "Result after array rotation is:\n",
      " ['ghi', '32', '...', 'abc', 'def']\n"
     ]
    }
   ],
   "source": [
    "#Answer 3\n",
    "l3=[] #For storage purpose\n",
    "n3=0 #For number of elements to be moved from initial places to rear end\n",
    "c3=[] #To store those number of initial elements temporarily\n",
    "i3=0 #for continuation of data input along with loop progression\n",
    "len3=0 #For length of l3\n",
    "while i3!='0':\n",
    "    l3.append(input(\"Enter an element to store in a collection: \"))\n",
    "    i3=input(\"Enter 0 if you want to stop entering data into the collection. Else press any other key: \")\n",
    "len3=len(l3)\n",
    "n3 = int(input(\"Enter the number of initial elements that you want to move to rear end of collection: \"))\n",
    "i3=0\n",
    "for i3 in range(n3):\n",
    "    c3.append(l3[i3])\n",
    "i3=0\n",
    "j3=0\n",
    "print(\"The collection of elements that will be moved to rear end is\",c3)\n",
    "for i3 in range(len3):\n",
    "    if i3<(len3-n3):\n",
    "        l3[i3]=l3[i3+n3]\n",
    "    else:\n",
    "        l3[i3]=c3[j3]\n",
    "        j3+=1\n",
    "print(\"Result after array rotation is:\\n\",l3)"
   ]
  },
  {
   "cell_type": "markdown",
   "id": "b1f78c68",
   "metadata": {},
   "source": [
    "Q. 4. Write a Python Program to Split the array and add the first part to the end?"
   ]
  },
  {
   "cell_type": "code",
   "execution_count": 97,
   "id": "48901778",
   "metadata": {},
   "outputs": [
    {
     "name": "stdout",
     "output_type": "stream",
     "text": [
      "Enter a sentence: abc def ghi 23 wow\n",
      "The value/data that will be moved to the end is:  abc\n",
      "Final result is:  ['def', 'ghi', '23', 'wow', 'abc']\n"
     ]
    }
   ],
   "source": [
    "#Answer 4\n",
    "string4 = input(\"Enter a sentence: \")\n",
    "l4 = string4.split(' ')\n",
    "#print(l4)\n",
    "tempstr4 = l4[0]\n",
    "print(\"The value/data that will be moved to the end is: \",tempstr4)\n",
    "for i4 in range(len(l4)-1):\n",
    "    l4[i4]=l4[i4+1]\n",
    "l4[len(l4)-1]=tempstr4\n",
    "print(\"Final result is: \",l4)"
   ]
  },
  {
   "cell_type": "markdown",
   "id": "ddb8967a",
   "metadata": {},
   "source": [
    "Q. 5. Write a Python Program to check if given array is Monotonic?"
   ]
  },
  {
   "cell_type": "code",
   "execution_count": 98,
   "id": "a4090995",
   "metadata": {},
   "outputs": [
    {
     "name": "stdout",
     "output_type": "stream",
     "text": [
      "Enter an integer: 1\n",
      "If you want to stop & get the sum of integers entered so far, press 0\n",
      "Else press anything else 1\n",
      "Enter an integer: 2\n",
      "If you want to stop & get the sum of integers entered so far, press 0\n",
      "Else press anything else 2\n",
      "Enter an integer: 3\n",
      "If you want to stop & get the sum of integers entered so far, press 0\n",
      "Else press anything else 3\n",
      "Enter an integer: 4\n",
      "If you want to stop & get the sum of integers entered so far, press 0\n",
      "Else press anything else 4\n",
      "Enter an integer: g\n",
      "You did not enter an integer\n",
      "If you want to stop & get the sum of integers entered so far, press 0\n",
      "Else press anything else f\n",
      "Enter an integer:  \n",
      "You did not enter an integer\n",
      "If you want to stop & get the sum of integers entered so far, press 0\n",
      "Else press anything else f\n",
      "Enter an integer: 5\n",
      "If you want to stop & get the sum of integers entered so far, press 0\n",
      "Else press anything else 6\n",
      "Enter an integer: 6\n",
      "If you want to stop & get the sum of integers entered so far, press 0\n",
      "Else press anything else 6\n",
      "Enter an integer: 7\n",
      "If you want to stop & get the sum of integers entered so far, press 0\n",
      "Else press anything else 0\n",
      "The collection entered by you is:\n",
      " [1.0, 2.0, 3.0, 4.0, 5.0, 6.0, 7.0]\n",
      "The collection is increasing in monotonic manner\n"
     ]
    }
   ],
   "source": [
    "#Answer 5\n",
    "l5 = []  #for storage purpose\n",
    "i5=0 #for iteration purpose\n",
    "c5=0 #to get an indicator whether collection is increasing or decreasing in monotonic manner\n",
    "\n",
    "def check_n5(n5): #To check whether input can be converted to float (i.e., string contains solely float/int)\n",
    "    try:\n",
    "        float(n5)\n",
    "        return True\n",
    "    except ValueError:\n",
    "        return False\n",
    "while i5!='0':\n",
    "    a5 = input(\"Enter an integer: \")\n",
    "    if check_n5(a5) is True: #Checks whether string solely contains float/int\n",
    "        l5.append(float(a5))\n",
    "        i5 = input(\"If you want to stop & get the sum of integers entered so far, press 0\\nElse press anything else \")\n",
    "    else:\n",
    "        print(\"You did not enter an integer\")\n",
    "        i5 = input(\"If you want to stop & get the sum of integers entered so far, press 0\\nElse press anything else \")\n",
    "\n",
    "print(\"The collection entered by you is:\\n\",l5)\n",
    "i5=0\n",
    "for i5 in range(len(l5)-1):  #this loop checks whether it is an increasing sequence or not\n",
    "    if l5[i5]<l5[i5+1]:\n",
    "        c5=1  #increasing till now\n",
    "        continue\n",
    "    else:\n",
    "        c5=0 #not increasing\n",
    "        break\n",
    "\n",
    "if c5 == 1:\n",
    "    print(\"The collection is increasing in monotonic manner\")\n",
    "\n",
    "if c5 == 0:\n",
    "    for i5 in range(len(l5)-1):  #this loop checks whether it is a decreasing sequence or not\n",
    "        if l5[i5]>l5[i5+1]:\n",
    "            c5 = 2 #decreasing till now\n",
    "            continue\n",
    "        else:\n",
    "            c5=0 #not decreasing\n",
    "            break\n",
    "\n",
    "if c5 ==2:\n",
    "    print(\"The collection is decreasing in monotonic manner\")\n",
    "\n",
    "if c5 ==0:\n",
    "    print(\"The collection is neither increasing nor decreasing in a monotonic manner\")"
   ]
  },
  {
   "cell_type": "code",
   "execution_count": null,
   "id": "e5d3210d",
   "metadata": {},
   "outputs": [],
   "source": []
  }
 ],
 "metadata": {
  "kernelspec": {
   "display_name": "Python 3 (ipykernel)",
   "language": "python",
   "name": "python3"
  },
  "language_info": {
   "codemirror_mode": {
    "name": "ipython",
    "version": 3
   },
   "file_extension": ".py",
   "mimetype": "text/x-python",
   "name": "python",
   "nbconvert_exporter": "python",
   "pygments_lexer": "ipython3",
   "version": "3.9.7"
  }
 },
 "nbformat": 4,
 "nbformat_minor": 5
}
