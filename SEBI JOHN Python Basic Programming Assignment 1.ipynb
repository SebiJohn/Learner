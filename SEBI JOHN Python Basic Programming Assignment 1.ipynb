{
 "cells": [
  {
   "cell_type": "markdown",
   "id": "4ba15e00",
   "metadata": {},
   "source": [
    "Q.1. Write a Python program to print \"Hello Python\"?"
   ]
  },
  {
   "cell_type": "code",
   "execution_count": 31,
   "id": "36a269c9",
   "metadata": {},
   "outputs": [
    {
     "name": "stdout",
     "output_type": "stream",
     "text": [
      "\"Hello Python\"\n",
      "Hello Python\n"
     ]
    }
   ],
   "source": [
    "#Answer 1\n",
    "print('\"Hello Python\"')\n",
    "print(\"Hello Python\")"
   ]
  },
  {
   "cell_type": "markdown",
   "id": "9abea12f",
   "metadata": {},
   "source": [
    "Q.2. Write a Python program to do arithmetical operations addition and division.?"
   ]
  },
  {
   "cell_type": "code",
   "execution_count": 19,
   "id": "bd5b5de3",
   "metadata": {},
   "outputs": [
    {
     "name": "stdout",
     "output_type": "stream",
     "text": [
      "Enter first number: 20\n",
      "Enter second number: 5\n",
      "Result after addition is  25 \n",
      "Result after dividing n1 by n2 is  4.0\n"
     ]
    }
   ],
   "source": [
    "#Answer 2\n",
    "n1 = int(input(\"Enter first number: \"))\n",
    "n2 = int(input(\"Enter second number: \"))\n",
    "print(\"Result after addition is \",(n1+n2),\"\\nResult after dividing n1 by n2 is \",(n1/n2))"
   ]
  },
  {
   "cell_type": "markdown",
   "id": "eab84857",
   "metadata": {},
   "source": [
    "Q.3. Write a Python program to find the area of a triangle?"
   ]
  },
  {
   "cell_type": "code",
   "execution_count": 32,
   "id": "68fe3f94",
   "metadata": {},
   "outputs": [
    {
     "name": "stdout",
     "output_type": "stream",
     "text": [
      "Enter the base length of triangle: 89\n",
      "Enter the height of triangle: 55\n",
      "Area of the desired triangle is:  2447.5 square units\n"
     ]
    }
   ],
   "source": [
    "#Answer 3\n",
    "base = int(input(\"Enter the base length of triangle: \"))\n",
    "height = int(input(\"Enter the height of triangle: \"))\n",
    "print(\"Area of the desired triangle is: \", ((1/2)*base*height),\"square units\")"
   ]
  },
  {
   "cell_type": "markdown",
   "id": "52dcea73",
   "metadata": {},
   "source": [
    "Q.4. Write a Python program to swap two variables?"
   ]
  },
  {
   "cell_type": "code",
   "execution_count": 21,
   "id": "4b16acc0",
   "metadata": {},
   "outputs": [
    {
     "name": "stdout",
     "output_type": "stream",
     "text": [
      "Enter first value: 88\n",
      "Enter second value: 12\n",
      "n1 =  12 \n",
      "n2 =  88\n"
     ]
    }
   ],
   "source": [
    "#Answer 4\n",
    "n1 = int(input(\"Enter first value: \"))\n",
    "n2 = int(input(\"Enter second value: \"))\n",
    "n1 = n1 + n2\n",
    "n2 = (n2 - n1)*(-1)\n",
    "n1 = n1 - n2\n",
    "print(\"n1 = \",n1,\"\\nn2 = \",n2)"
   ]
  },
  {
   "cell_type": "markdown",
   "id": "c4bc6b91",
   "metadata": {},
   "source": [
    "Q.5. Write a Python program to generate a random number?"
   ]
  },
  {
   "cell_type": "code",
   "execution_count": 30,
   "id": "66c50bdd",
   "metadata": {},
   "outputs": [
    {
     "name": "stdout",
     "output_type": "stream",
     "text": [
      "Enter a positive integer greater than 2: 893\n",
      "Random number between 1 and  893  is:  178\n"
     ]
    }
   ],
   "source": [
    "#Answer 5\n",
    "import random\n",
    "n_in = int(input(\"Enter a positive integer greater than 2: \"))\n",
    "if n_in > 2:\n",
    "    n_out = random.randint(1,n_in)\n",
    "else:\n",
    "    while n_in <=2:\n",
    "        n_in = int(input(\"Incorrect input. Enter a positive integer greater than 2: \"))\n",
    "print(\"Random number between 1 and \",n_in,\" is: \",n_out)"
   ]
  },
  {
   "cell_type": "code",
   "execution_count": null,
   "id": "a77808c6",
   "metadata": {},
   "outputs": [],
   "source": []
  }
 ],
 "metadata": {
  "kernelspec": {
   "display_name": "Python 3 (ipykernel)",
   "language": "python",
   "name": "python3"
  },
  "language_info": {
   "codemirror_mode": {
    "name": "ipython",
    "version": 3
   },
   "file_extension": ".py",
   "mimetype": "text/x-python",
   "name": "python",
   "nbconvert_exporter": "python",
   "pygments_lexer": "ipython3",
   "version": "3.9.7"
  }
 },
 "nbformat": 4,
 "nbformat_minor": 5
}
