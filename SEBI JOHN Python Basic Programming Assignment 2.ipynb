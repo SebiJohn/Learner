{
 "cells": [
  {
   "cell_type": "markdown",
   "id": "173722d4",
   "metadata": {},
   "source": [
    "Python Programming Basic Assignment_2"
   ]
  },
  {
   "cell_type": "markdown",
   "id": "bee875d2",
   "metadata": {},
   "source": [
    "Q.1. Write a Python program to convert kilometers to miles?"
   ]
  },
  {
   "cell_type": "code",
   "execution_count": 69,
   "id": "f2bf3b45",
   "metadata": {},
   "outputs": [
    {
     "name": "stdout",
     "output_type": "stream",
     "text": [
      "Enter distance in kilometers:: 14\n",
      "Distance in miles is::  8.69919666\n"
     ]
    }
   ],
   "source": [
    "#Answer 1\n",
    "km=float(input(\"Enter distance in kilometers:: \")) #Distance entered in km\n",
    "print(\"Distance in miles is:: \",km*0.62137119) #converts and prints distance in miles"
   ]
  },
  {
   "cell_type": "markdown",
   "id": "434ad767",
   "metadata": {},
   "source": [
    "Q.2. Write a Python program to convert Celsius to Fahrenheit?"
   ]
  },
  {
   "cell_type": "code",
   "execution_count": 70,
   "id": "7b5e075f",
   "metadata": {},
   "outputs": [
    {
     "name": "stdout",
     "output_type": "stream",
     "text": [
      "Enter temperature in Celsius for conversion to Fahrenheit:: 25\n",
      "Temperature in Fahrenheit is::  77.0\n"
     ]
    }
   ],
   "source": [
    "#Answer 2\n",
    "c=float(input(\"Enter temperature in Celsius for conversion to Fahrenheit:: \")) #Takes temperature in Celsius\n",
    "print(\"Temperature in Fahrenheit is:: \",((c*1.8)+32)) #Converts Celsius to Fahrenheit and prints it"
   ]
  },
  {
   "cell_type": "markdown",
   "id": "a814f955",
   "metadata": {},
   "source": [
    "Q.3. Write a Python program to display calendar?"
   ]
  },
  {
   "cell_type": "code",
   "execution_count": 71,
   "id": "ccdab2d0",
   "metadata": {
    "scrolled": true
   },
   "outputs": [
    {
     "name": "stdout",
     "output_type": "stream",
     "text": [
      "Enter the desired year of which you wish to see the complete calendar:: 2022\n",
      "Calendar of the year 2022 is displayed below:\n",
      "\n",
      "                                           2022\n",
      "\n",
      "          January                       February                       March\n",
      "Mon Tue Wed Thu Fri Sat Sun   Mon Tue Wed Thu Fri Sat Sun   Mon Tue Wed Thu Fri Sat Sun\n",
      "                      1   2         1   2   3   4   5   6         1   2   3   4   5   6\n",
      "  3   4   5   6   7   8   9     7   8   9  10  11  12  13     7   8   9  10  11  12  13\n",
      " 10  11  12  13  14  15  16    14  15  16  17  18  19  20    14  15  16  17  18  19  20\n",
      " 17  18  19  20  21  22  23    21  22  23  24  25  26  27    21  22  23  24  25  26  27\n",
      " 24  25  26  27  28  29  30    28                            28  29  30  31\n",
      " 31\n",
      "\n",
      "           April                          May                           June\n",
      "Mon Tue Wed Thu Fri Sat Sun   Mon Tue Wed Thu Fri Sat Sun   Mon Tue Wed Thu Fri Sat Sun\n",
      "                  1   2   3                             1             1   2   3   4   5\n",
      "  4   5   6   7   8   9  10     2   3   4   5   6   7   8     6   7   8   9  10  11  12\n",
      " 11  12  13  14  15  16  17     9  10  11  12  13  14  15    13  14  15  16  17  18  19\n",
      " 18  19  20  21  22  23  24    16  17  18  19  20  21  22    20  21  22  23  24  25  26\n",
      " 25  26  27  28  29  30        23  24  25  26  27  28  29    27  28  29  30\n",
      "                               30  31\n",
      "\n",
      "            July                         August                      September\n",
      "Mon Tue Wed Thu Fri Sat Sun   Mon Tue Wed Thu Fri Sat Sun   Mon Tue Wed Thu Fri Sat Sun\n",
      "                  1   2   3     1   2   3   4   5   6   7                 1   2   3   4\n",
      "  4   5   6   7   8   9  10     8   9  10  11  12  13  14     5   6   7   8   9  10  11\n",
      " 11  12  13  14  15  16  17    15  16  17  18  19  20  21    12  13  14  15  16  17  18\n",
      " 18  19  20  21  22  23  24    22  23  24  25  26  27  28    19  20  21  22  23  24  25\n",
      " 25  26  27  28  29  30  31    29  30  31                    26  27  28  29  30\n",
      "\n",
      "          October                       November                      December\n",
      "Mon Tue Wed Thu Fri Sat Sun   Mon Tue Wed Thu Fri Sat Sun   Mon Tue Wed Thu Fri Sat Sun\n",
      "                      1   2         1   2   3   4   5   6                 1   2   3   4\n",
      "  3   4   5   6   7   8   9     7   8   9  10  11  12  13     5   6   7   8   9  10  11\n",
      " 10  11  12  13  14  15  16    14  15  16  17  18  19  20    12  13  14  15  16  17  18\n",
      " 17  18  19  20  21  22  23    21  22  23  24  25  26  27    19  20  21  22  23  24  25\n",
      " 24  25  26  27  28  29  30    28  29  30                    26  27  28  29  30  31\n",
      " 31\n",
      "\n"
     ]
    }
   ],
   "source": [
    "#Answer 3\n",
    "import calendar\n",
    "y=int(input(\"Enter the desired year of which you wish to see the complete calendar:: \"))\n",
    "print(\"Calendar of the year {} is displayed below:\\n\\n\".format(y),calendar.calendar(y,3,1,3))"
   ]
  },
  {
   "cell_type": "markdown",
   "id": "d329e7b2",
   "metadata": {},
   "source": [
    "Q.4. Write a Python program to solve quadratic equation?"
   ]
  },
  {
   "cell_type": "code",
   "execution_count": 72,
   "id": "31f65c2d",
   "metadata": {},
   "outputs": [
    {
     "name": "stdout",
     "output_type": "stream",
     "text": [
      "Enter coefficient of x square:: 3\n",
      "Enter coefficient of x:: 24\n",
      "Enter value of constant:: 48\n",
      "The value of discriminant is:: 0.0. Thus the quadratic equation has a repeated solution.\n",
      "-4.0 is the first root and -4.0 is the second root.\n"
     ]
    }
   ],
   "source": [
    "#Answer 4\n",
    "a=float(input(\"Enter coefficient of x square:: \")) #Coeff of x squared\n",
    "b=float(input(\"Enter coefficient of x:: \")) #Coeff of x to the power of 1\n",
    "c=float(input(\"Enter value of constant:: \")) #Constant\n",
    "D = (b*b)-(4*(a*c)) #Value of discriminant\n",
    "print(\"The value of discriminant is:: \",end='')\n",
    "if D<0:\n",
    "    print(\"{}. Thus the quadratic equation doesn't have any real number solutions.\".format(D))\n",
    "    check = 0\n",
    "elif D==0:\n",
    "    print(\"{}. Thus the quadratic equation has a repeated solution.\".format(D))\n",
    "    check = 1\n",
    "else:\n",
    "    print(\"{}. Thus the quadratic equation has two distinct solutions.\".format(D))\n",
    "    check = 1\n",
    "if check == 1:\n",
    "    d=D**(1/2) #Square root of discriminant\n",
    "    x1 = (-b+d)/(2*a) #1st root\n",
    "    x2 = (-b-d)/(2*a) #2nd root\n",
    "    print(\"{} is the first root and {} is the second root.\".format(x1,x2))"
   ]
  },
  {
   "cell_type": "markdown",
   "id": "1992f66b",
   "metadata": {},
   "source": [
    "Q.5. Write a Python program to swap two variables without temp variable?"
   ]
  },
  {
   "cell_type": "code",
   "execution_count": 73,
   "id": "8dd2872a",
   "metadata": {},
   "outputs": [
    {
     "name": "stdout",
     "output_type": "stream",
     "text": [
      "Enter value of a:: 47\n",
      "Enter value of b:: 37\n",
      "Value of a = 37.0 \n",
      "Value of b = 47.0\n"
     ]
    }
   ],
   "source": [
    "#Answer 5\n",
    "a=float(input(\"Enter value of a:: \"))\n",
    "b=float(input(\"Enter value of b:: \"))\n",
    "a=a+b\n",
    "b=a-b\n",
    "a=a-b\n",
    "print(\"Value of a = {} \\nValue of b = {}\".format(a,b))"
   ]
  },
  {
   "cell_type": "code",
   "execution_count": null,
   "id": "d341c6ab",
   "metadata": {},
   "outputs": [],
   "source": []
  }
 ],
 "metadata": {
  "kernelspec": {
   "display_name": "Python 3 (ipykernel)",
   "language": "python",
   "name": "python3"
  },
  "language_info": {
   "codemirror_mode": {
    "name": "ipython",
    "version": 3
   },
   "file_extension": ".py",
   "mimetype": "text/x-python",
   "name": "python",
   "nbconvert_exporter": "python",
   "pygments_lexer": "ipython3",
   "version": "3.9.7"
  }
 },
 "nbformat": 4,
 "nbformat_minor": 5
}
