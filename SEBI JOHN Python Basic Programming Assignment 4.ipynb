{
 "cells": [
  {
   "cell_type": "markdown",
   "id": "2a8e8a52",
   "metadata": {},
   "source": [
    "Python Programming Basic Assignment_4"
   ]
  },
  {
   "cell_type": "markdown",
   "id": "074c776d",
   "metadata": {},
   "source": [
    "Q.1. Write a Python Program to Find the Factorial of a Number?"
   ]
  },
  {
   "cell_type": "code",
   "execution_count": 81,
   "id": "3db4f45c",
   "metadata": {},
   "outputs": [
    {
     "name": "stdout",
     "output_type": "stream",
     "text": [
      "Enter a positive whole number:: 10\n",
      "Factorial of 10 is:: 3628800\n"
     ]
    }
   ],
   "source": [
    "#Answer 1\n",
    "n1=int(input(\"Enter a positive whole number:: \"))\n",
    "n=n1\n",
    "f=1\n",
    "while n>1:\n",
    "    f=f*n\n",
    "    n=n-1\n",
    "print(\"Factorial of {a} is:: {b}\".format(a=n1,b=f))"
   ]
  },
  {
   "cell_type": "markdown",
   "id": "5905baf4",
   "metadata": {},
   "source": [
    "Q.2. Write a Python Program to Display the multiplication Table?"
   ]
  },
  {
   "cell_type": "code",
   "execution_count": 82,
   "id": "642df022",
   "metadata": {},
   "outputs": [
    {
     "name": "stdout",
     "output_type": "stream",
     "text": [
      "Enter a number:: 5\n",
      "Enter second number upto which you want to multiply the first number:: 20\n",
      "5 * 1 =  5\n",
      "5 * 2 =  10\n",
      "5 * 3 =  15\n",
      "5 * 4 =  20\n",
      "5 * 5 =  25\n",
      "5 * 6 =  30\n",
      "5 * 7 =  35\n",
      "5 * 8 =  40\n",
      "5 * 9 =  45\n",
      "5 * 10 =  50\n",
      "5 * 11 =  55\n",
      "5 * 12 =  60\n",
      "5 * 13 =  65\n",
      "5 * 14 =  70\n",
      "5 * 15 =  75\n",
      "5 * 16 =  80\n",
      "5 * 17 =  85\n",
      "5 * 18 =  90\n",
      "5 * 19 =  95\n",
      "5 * 20 =  100\n"
     ]
    }
   ],
   "source": [
    "#Answer 2\n",
    "n1=int(input(\"Enter a number:: \"))\n",
    "n2=int(input(\"Enter second number upto which you want to multiply the first number:: \"))\n",
    "for i in range(1,n2+1):\n",
    "    print(\"{a} * {b} = \".format(a=n1,b=i),n1*i,end='\\n')"
   ]
  },
  {
   "cell_type": "markdown",
   "id": "43d5a217",
   "metadata": {},
   "source": [
    "Q.3. Write a Python Program to Print the Fibonacci sequence?"
   ]
  },
  {
   "cell_type": "code",
   "execution_count": 83,
   "id": "2f780cd5",
   "metadata": {},
   "outputs": [
    {
     "name": "stdout",
     "output_type": "stream",
     "text": [
      "Enter a number (including) upto which you want to obtain the Fibonacci sequence:: 500\n",
      "0 1 1 2 3 5 8 13 21 34 55 89 144 233 377 610 "
     ]
    }
   ],
   "source": [
    "#Answer 3\n",
    "n1 = int(input(\"Enter a number (including) upto which you want to obtain the Fibonacci sequence:: \"))\n",
    "i1=0\n",
    "i2=1\n",
    "s=i1+i2\n",
    "while i2<n1 or i1<n1:\n",
    "    print(i1,i2,end=' ')\n",
    "    i1=s\n",
    "    s=i1+i2\n",
    "    i2=s\n",
    "    s=i1+i2\n"
   ]
  },
  {
   "cell_type": "markdown",
   "id": "0f6514cf",
   "metadata": {},
   "source": [
    "Q.4. Write a Python Program to Check Armstrong Number?"
   ]
  },
  {
   "cell_type": "code",
   "execution_count": 84,
   "id": "f60d8ea9",
   "metadata": {},
   "outputs": [
    {
     "name": "stdout",
     "output_type": "stream",
     "text": [
      "Enter a number:: 370\n",
      "It is an Armstrong number\n"
     ]
    }
   ],
   "source": [
    "#Answer 4\n",
    "s=0 #for sum of digits\n",
    "n1=input(\"Enter a number:: \")\n",
    "p1=len(n1) #determine number of digits\n",
    "n1=n2=int(n1)\n",
    "while n2>=1:\n",
    "    s = s + (n2%10)**p1 #gets the digit in the unit place and adds it after exponential application\n",
    "    n2=n2//10 #unit digit being removed to shorten number in order to extract next digit\n",
    "if n1==s:\n",
    "    print(\"It is an Armstrong number\")\n",
    "else:\n",
    "    print(\"This number is not an Armstrong number\")"
   ]
  },
  {
   "cell_type": "markdown",
   "id": "1a71d871",
   "metadata": {},
   "source": [
    "Q.5. Write a Python Program to Find Armstrong Number in an Interval?"
   ]
  },
  {
   "cell_type": "code",
   "execution_count": 85,
   "id": "fb1a5ce7",
   "metadata": {},
   "outputs": [
    {
     "name": "stdout",
     "output_type": "stream",
     "text": [
      "Enter lower limit of interval:: 1\n",
      "Enter upper limit of interval:: 10000\n",
      "1 is an Armstrong Number\n",
      "2 is an Armstrong Number\n",
      "3 is an Armstrong Number\n",
      "4 is an Armstrong Number\n",
      "5 is an Armstrong Number\n",
      "6 is an Armstrong Number\n",
      "7 is an Armstrong Number\n",
      "8 is an Armstrong Number\n",
      "9 is an Armstrong Number\n",
      "153 is an Armstrong Number\n",
      "370 is an Armstrong Number\n",
      "371 is an Armstrong Number\n",
      "407 is an Armstrong Number\n",
      "1634 is an Armstrong Number\n",
      "8208 is an Armstrong Number\n",
      "9474 is an Armstrong Number\n",
      "Interval is over\n"
     ]
    }
   ],
   "source": [
    "#Answer 5\n",
    "a = input(\"Enter lower limit of interval:: \")\n",
    "b = input(\"Enter upper limit of interval:: \")\n",
    "n1=int(a)\n",
    "n2=int(b)\n",
    "i=n1\n",
    "for i in range(n1,(n2+1)):\n",
    "    j=i\n",
    "    s=0\n",
    "    d1=len(str(i))\n",
    "    while j>=1:\n",
    "        s = s + ((j%10)**d1)\n",
    "        j=j//10\n",
    "    if i==s:\n",
    "        print(\"{} is an Armstrong Number\".format(i),end='\\n')\n",
    "    i=i+1\n",
    "else:\n",
    "    print(\"Interval is over\")"
   ]
  },
  {
   "cell_type": "markdown",
   "id": "edb09a41",
   "metadata": {},
   "source": [
    "Q.6. Write a Python Program to Find the Sum of Natural Numbers?"
   ]
  },
  {
   "cell_type": "code",
   "execution_count": 86,
   "id": "16b80791",
   "metadata": {},
   "outputs": [
    {
     "name": "stdout",
     "output_type": "stream",
     "text": [
      "Enter a natural number::10\n",
      "Sum of natural numbers is::  55.0\n"
     ]
    }
   ],
   "source": [
    "#Answer 6\n",
    "n = int(input(\"Enter a natural number::\"))\n",
    "print(\"Sum of natural numbers is:: \",(n*(n+1)/2))"
   ]
  },
  {
   "cell_type": "code",
   "execution_count": null,
   "id": "e24b8d6e",
   "metadata": {},
   "outputs": [],
   "source": []
  }
 ],
 "metadata": {
  "kernelspec": {
   "display_name": "Python 3 (ipykernel)",
   "language": "python",
   "name": "python3"
  },
  "language_info": {
   "codemirror_mode": {
    "name": "ipython",
    "version": 3
   },
   "file_extension": ".py",
   "mimetype": "text/x-python",
   "name": "python",
   "nbconvert_exporter": "python",
   "pygments_lexer": "ipython3",
   "version": "3.9.7"
  }
 },
 "nbformat": 4,
 "nbformat_minor": 5
}
