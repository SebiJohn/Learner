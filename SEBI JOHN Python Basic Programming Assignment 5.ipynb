{
 "cells": [
  {
   "cell_type": "markdown",
   "id": "a37f41fd",
   "metadata": {},
   "source": [
    "Python Programming Basic Assignment_5"
   ]
  },
  {
   "cell_type": "markdown",
   "id": "0c51b99b",
   "metadata": {},
   "source": [
    "Q.1. Write a Python Program to Find LCM?"
   ]
  },
  {
   "cell_type": "code",
   "execution_count": 49,
   "id": "c6d3cb60",
   "metadata": {},
   "outputs": [
    {
     "name": "stdout",
     "output_type": "stream",
     "text": [
      "Enter the value of 1st number:: 21\n",
      "Enter the value of 2nd number:: 45\n",
      "LCM of 21 and 45 is:: 315\n"
     ]
    }
   ],
   "source": [
    "#Answer 1\n",
    "n1 = int(input(\"Enter the value of 1st number:: \"))\n",
    "n2 = int(input(\"Enter the value of 2nd number:: \"))\n",
    "if n1>n2:\n",
    "    n=n1\n",
    "else:\n",
    "    n=n2\n",
    "check=0\n",
    "while check<1:\n",
    "    if n%n1==0 and n%n2==0:\n",
    "        check = 1\n",
    "    else:\n",
    "        n+=1\n",
    "print(\"LCM of {a} and {b} is:: {c}\".format(a=n1, b=n2, c=n))"
   ]
  },
  {
   "cell_type": "markdown",
   "id": "e373fc34",
   "metadata": {},
   "source": [
    "Q.2. Write a Python Program to Find HCF?"
   ]
  },
  {
   "cell_type": "code",
   "execution_count": 50,
   "id": "ed40c8c6",
   "metadata": {},
   "outputs": [
    {
     "name": "stdout",
     "output_type": "stream",
     "text": [
      "Enter the value of 1st number:: 125\n",
      "Enter the value of 2nd number:: 50\n",
      "HCF of 125 and 50 is:: 25\n"
     ]
    }
   ],
   "source": [
    "#Answer 2\n",
    "n1 = int(input(\"Enter the value of 1st number:: \"))\n",
    "n2 = int(input(\"Enter the value of 2nd number:: \"))\n",
    "n=1\n",
    "while n<=n1 and n<=n2:\n",
    "    if n1%n==0 and n2%n==0:\n",
    "        HCF=n\n",
    "    n+=1\n",
    "print(\"HCF of {a} and {b} is:: {c}\".format(a=n1,b=n2,c=HCF))"
   ]
  },
  {
   "cell_type": "markdown",
   "id": "b0a63638",
   "metadata": {},
   "source": [
    "Q.3. Write a Python Program to Convert Decimal to Binary, Octal and Hexadecimal?"
   ]
  },
  {
   "cell_type": "code",
   "execution_count": 51,
   "id": "8fd5b1c7",
   "metadata": {},
   "outputs": [
    {
     "name": "stdout",
     "output_type": "stream",
     "text": [
      "Enter a value:: 132\n",
      "Binaryy::  0b10000100\n",
      "Octal::  0o204\n",
      "Hexadecimal 0x84\n"
     ]
    }
   ],
   "source": [
    "#Answer 3\n",
    "N = int(input(\"Enter a value:: \"))\n",
    "#Binary\n",
    "N1=N #Duplicate number for calculations\n",
    "i=0 #exponent\n",
    "Q=0 #Quotient\n",
    "R=0 #Remainder\n",
    "B=0 #Binary\n",
    "print(\"Binaryy:: \",bin(N)) #Function\n",
    "print(\"Octal:: \",oct(N)) #Function\n",
    "print(\"Hexadecimal\",hex(N)) #Function"
   ]
  },
  {
   "cell_type": "markdown",
   "id": "4203fd33",
   "metadata": {},
   "source": [
    "Q.4. Write a Python Program To Find ASCII value of a character?"
   ]
  },
  {
   "cell_type": "code",
   "execution_count": 52,
   "id": "39158d78",
   "metadata": {},
   "outputs": [
    {
     "name": "stdout",
     "output_type": "stream",
     "text": [
      "Enter a charater to obtain it's ASCII value:: H\n",
      "ASCII value of H is 72\n"
     ]
    }
   ],
   "source": [
    "#Answer 4\n",
    "a=input(\"Enter a charater to obtain it's ASCII value:: \")\n",
    "print('ASCII value of {} is'.format(a),ord(a))"
   ]
  },
  {
   "cell_type": "markdown",
   "id": "71b3e84f",
   "metadata": {},
   "source": [
    "Q.5. Write a Python Program to Make a Simple Calculator with 4 basic mathematical operations?"
   ]
  },
  {
   "cell_type": "code",
   "execution_count": 53,
   "id": "a676f848",
   "metadata": {},
   "outputs": [
    {
     "name": "stdout",
     "output_type": "stream",
     "text": [
      "Enter 1st number:: 16\n",
      "Enter 2nd number:: 3\n",
      "Enter Operator for calculation:: *\n",
      "The output is ::  48\n"
     ]
    }
   ],
   "source": [
    "n1=int(input(\"Enter 1st number:: \"))\n",
    "n2=int(input(\"Enter 2nd number:: \"))\n",
    "op=input(\"Enter Operator for calculation:: \")\n",
    "if op == '+':\n",
    "    print(\"The output is :: \",(n1+n2))\n",
    "elif op =='-':\n",
    "    print(\"The output is :: \",(n1-n2))\n",
    "elif op =='/':\n",
    "    print(\"The output is :: \",(n1/n2))\n",
    "elif op=='*':\n",
    "    print(\"The output is :: \",(n1*n2))"
   ]
  },
  {
   "cell_type": "code",
   "execution_count": null,
   "id": "c9f3b67e",
   "metadata": {},
   "outputs": [],
   "source": []
  }
 ],
 "metadata": {
  "kernelspec": {
   "display_name": "Python 3 (ipykernel)",
   "language": "python",
   "name": "python3"
  },
  "language_info": {
   "codemirror_mode": {
    "name": "ipython",
    "version": 3
   },
   "file_extension": ".py",
   "mimetype": "text/x-python",
   "name": "python",
   "nbconvert_exporter": "python",
   "pygments_lexer": "ipython3",
   "version": "3.9.7"
  }
 },
 "nbformat": 4,
 "nbformat_minor": 5
}
